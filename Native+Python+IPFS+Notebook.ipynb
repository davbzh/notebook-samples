{
 "cells": [
  {
   "cell_type": "markdown",
   "metadata": {},
   "source": [
    "<div class=\"jumbotron\" style=\"color:#F9F9FB;background-color:#1a242d !important;\">\n",
    "  <span style=\"float: right;width:5%;height:5%\">\n",
    "      <img src=\"https://ipfs.io/ipfs/QmVfFbASG11MjUFuvfAJmjKpxRGYstCAw9GmZEpbA7KE7A\"/>\n",
    "  </span>\n",
    "  <span style=\"float: right;width:5%;height:5%\">\n",
    "      <img style=\"background-color:white\" src=\"https://rawgit.com/jupyter/design/master/logo/svg/jupyter-sq-text.svg\" />\n",
    "  </span>\n",
    "  <h1 class=\"display-3\">InterPlanetary File System (IPFS) on Jupyter</h1>\n",
    "  <p class=\"lead\">Jovians and Bluemix users rejoice!</p>\n",
    "  <hr class=\"m-y-2\">\n",
    "  <p><span style=\"color:orange;\">Art of the Possible</span> sometimes means mashing up Alpha technology with production level hosted cloud platforms ;-)<br/>\n",
    "  Brought to you courtesy of the IBM jStart Team (<a href=\"http://ibm.com/jstart\" target=\"_new\">http://ibm.com/jstart</a>)</p>\n",
    "  <p class=\"lead\">\n",
    "      <div class=\"text-center\">\n",
    "      <img style=\"width:10%;height:10%;display:inline\" src=\"https://ipfs.io/ipfs/QmTgtbb4LckHaXh1YhpNcBu48cFY8zgT1Lh49q7q7ksf3M/raster-generated/ipfs-logo-text-128-white.png\">&nbsp;&nbsp;\n",
    "      <a class=\"btn btn-primary btn-lg\" target=\"_new\" href=\"https://ipfs.io\" role=\"button\">Learn more</a></div>\n",
    "  </p>\n",
    "</div>"
   ]
  },
  {
   "cell_type": "markdown",
   "metadata": {},
   "source": [
    "<div class=\"alert alert-success\" role=\"alert\">\n",
    "  <strong>Let's get started!</strong> We need to install the IPFS Go-based binary into our notebook.<br/>We'll do this by loading a convenient external script and re-running the cell.<br/>\n",
    "  <strong style=\"color:purple\">Extra Credit</strong>: Check out <a href=\"https://github.com/ipfs/faq/issues/76\" target=\"_new\">how IPFS got its name</a>\n",
    "</div>"
   ]
  },
  {
   "cell_type": "code",
   "execution_count": null,
   "metadata": {
    "collapsed": false
   },
   "outputs": [],
   "source": [
    "#  Source: https://raw.githubusercontent.com/joshisa/jspark/master/jspark/ipfs.py\n",
    "\n",
    "# Useful Reading\n",
    "#   -   https://ipfs.io/ipfs/QmNhFJjGcMPqpuYfxL62VVB9528NXqDNMFXiqN5bgFYiZ1/its-time-for-the-permanent-web.html\n",
    "#   -   https://netninja.com/2015/09/30/ipfs_interplanetary_file_system/\n",
    "\n",
    "# Purpose:  Installation of IPFS (InterPlanetary File System) within Jupyter\n",
    "#           IPFS is a peer-to-peer distributed file system that seeks to \n",
    "#           connect all computing devices with the same system of files.\n",
    "#           In some ways, IPFS is similar to the World Wide Web, but IPFS \n",
    "#           could be seen as a single BitTorrent swarm, exchanging objects \n",
    "#           within one Git repository. IPFS has no single point of failure,\n",
    "#           and nodes do not need to trust each other.\n",
    "#           The filesystem can be accessed in a variety of ways, including \n",
    "#           via FUSE and over HTTP. A local file can be added to the IPFS \n",
    "#           filesystem, making it available to the world. Files are identified \n",
    "#           by their hashes, so it's caching-friendly. They are distributed \n",
    "#           using a BitTorrent-based protocol. (source: Wikipedia)\n",
    "# Status:  Alpha (Experimental)\n",
    "# Use Case Possibilities:  \n",
    "#   1. Easier sharing of data analysis result sets\n",
    "#   2. Easier access to popular open data sets via a permanent url\n",
    "#   3. Easier transfer of assets between notebook servers on different infra\n",
    "# Invoke Command: \n",
    "#   %load https://raw.githubusercontent.com/joshisa/jspark/master/jspark/ipfs.py\n",
    "#\n",
    "# Author:  Sanjay Joshi  joshisa (at) us(dot)ibm(dot)com\n",
    "# Author:  Chris Waldon ckwaldon (at) us(dot)ibm(dot)com\n",
    "# License: Apache 2.0\n",
    "# Organization:  IBM jStart (http://ibm.com/jstart)\n",
    "\n",
    "import sys\n",
    "import path\n",
    "import os\n",
    "import subprocess as sub\n",
    "import signal\n",
    "import time\n",
    "from IPython.display import *\n",
    "\n",
    "# Print Working Directory\n",
    "prefix = os.getcwd()\n",
    "proposed = os.path.dirname(os.path.dirname(prefix))\n",
    "if os.access(proposed, os.W_OK):\n",
    "    print(\"Prefix proposal accepted\")\n",
    "    prefix = proposed\n",
    "elif os.access(prefix, os.W_OK):\n",
    "    print(\"Prefix original accepted\")\n",
    "    prefix = prefix\n",
    "else:\n",
    "    sys.exit(\"No writeable directory found\")\n",
    "\n",
    "# Let's setup useful paths\n",
    "localDir = prefix + \"/.local\"\n",
    "shareDir = prefix + \"/.local/share\"\n",
    "ipfsDir = shareDir + \"/ipfs\"\n",
    "ipfsHomeDir = ipfsDir + \"/go-ipfs\"\n",
    "ipfsRepoDir = shareDir + \"/ipfsrepo\"\n",
    "\n",
    "# Let's make sure all of the paths are created if they don't exist\n",
    "!mkdir $localDir 2> /dev/null\n",
    "!mkdir $shareDir 2> /dev/null\n",
    "!mkdir $ipfsDir 2> /dev/null\n",
    "!mkdir $ipfsRepoDir 2> /dev/null\n",
    "\n",
    "# Let's now define some IMPORTANT env vars\n",
    "os.environ[\"PATH\"] += os.pathsep + ipfsHomeDir\n",
    "os.environ[\"IPFS_PATH\"] = ipfsRepoDir\n",
    "os.environ[\"IPFS_LOGGING\"] = \"\" #<empty>, info, error, debug\n",
    "\n",
    "print(\"prefix = \" + prefix)\n",
    "print(\"shareDir = \" + shareDir)\n",
    "print(\"ipfs Dir = \" + ipfsDir)\n",
    "print(\"IPFS Repo Dir = \" + ipfsRepoDir) \n",
    "\n",
    "# Define an IPFS Helper Class\n",
    "class ipfs():\n",
    "    def __init__(self):\n",
    "        cmd = ['ipfs', 'version']\n",
    "        p = sub.Popen(cmd, stdout=sub.PIPE,\n",
    "                   stderr=sub.PIPE)\n",
    "        out, err = p.communicate()\n",
    "        try:\n",
    "            out = out.decode(\"utf-8\")\n",
    "            err = err.decode(\"utf-8\")\n",
    "        except:\n",
    "            pass\n",
    "        print(err)\n",
    "        print(out)\n",
    "        cmd = ['ipfs', 'init']\n",
    "        p = sub.Popen(cmd, stdout=sub.PIPE,\n",
    "                   stderr=sub.PIPE)\n",
    "        out, err = p.communicate()\n",
    "        try:\n",
    "            out = out.decode(\"utf-8\")\n",
    "            err = err.decode(\"utf-8\")\n",
    "        except:\n",
    "            pass\n",
    "        print(err)\n",
    "        print(out)\n",
    "        self.daemonStart()\n",
    "        \n",
    "    def setLog(self, loglevel=\"\"):\n",
    "        os.environ[\"IPFS_LOGGING\"] = loglevel\n",
    "        \n",
    "    def daemonStart(self):\n",
    "        p = sub.Popen(\"nohup ipfs daemon > nohup.out 2>&1 &\", shell=True)\n",
    "        (result, err) = p.communicate()\n",
    "        time.sleep(5)\n",
    "        output = !cat nohup.out\n",
    "        log = '\\n'.join(str(x) for x in output)\n",
    "        print(log)\n",
    "\n",
    "    def daemonStop(self):\n",
    "        PID = !ps -ef | grep \"\\bipfs daemon\\b\" | awk '{print $2}'\n",
    "        os.kill(int(PID[0]), signal.SIGTERM)\n",
    "        time.sleep(5)\n",
    "        log = !cat nohup.out\n",
    "        log = '\\n'.join(str(x) for x in output)\n",
    "        print(log)\n",
    "    \n",
    "# Let's test to see if ipfs already exists in this notebook workspace\n",
    "isIPFSInstalled = os.path.isfile(ipfsHomeDir + \"/ipfs\")\n",
    "if isIPFSInstalled:\n",
    "    print(\"Congratulations! IPFS is already installed within your notebook user space\")\n",
    "else:\n",
    "    print(\"IPFS is NOT installed within this notebook's user space\")\n",
    "    print(\"Initiating installation sequence ...\")\n",
    "    \n",
    "    print(\"    Downloading and Installing the IPFS binary\")\n",
    "    !wget https://dist.ipfs.io/go-ipfs/v0.4.3/go-ipfs_v0.4.3_linux-amd64.tar.gz -O $ipfsDir/go-ipfs_v0.4.3_linux-amd64.tar.gz\n",
    "    !tar -zxvf $ipfsDir/go-ipfs_v0.4.3_linux-amd64.tar.gz -C $ipfsDir >/dev/null\n",
    "    # Retest ipfs existence\n",
    "    isIPFSInstalled = os.path.isfile(ipfsHomeDir + \"/ipfs\")\n",
    "    print(\"Congratulations!! IPFS is now installed within your notebook\")\n",
    "    print(\"To validate, run the following command within a cell:\")\n",
    "    print(\"\")\n",
    "    print(\"        ipfs = ipfs()\")\n"
   ]
  },
  {
   "cell_type": "code",
   "execution_count": null,
   "metadata": {
    "collapsed": true
   },
   "outputs": [],
   "source": [
    "#!rm -rf /gpfs/global_fs01/sym_shared/YPProdSpark/user/s2d0-c6f68dc1ef4cd0-aba0aba196d4/.local"
   ]
  },
  {
   "cell_type": "markdown",
   "metadata": {},
   "source": [
    "<span class=\"label label-success\">Success</span><br/><br/>\n",
    "<div class=\"alert alert-info alert-dismissible fade in\" role=\"alert\">\n",
    "  <button type=\"button\" class=\"close\" data-dismiss=\"alert\" aria-label=\"Close\">\n",
    "    <span aria-hidden=\"true\">&times;</span>\n",
    "  </button>\n",
    "  <strong>Awesome Sauce!</strong> Let's instantiate our helper class to start the daemon. If you see an error about the daemon already running, that's a good thing. Don't panic.\n",
    "</div>"
   ]
  },
  {
   "cell_type": "code",
   "execution_count": null,
   "metadata": {
    "collapsed": false
   },
   "outputs": [],
   "source": [
    "ipfs=ipfs()"
   ]
  },
  {
   "cell_type": "markdown",
   "metadata": {
    "collapsed": false
   },
   "source": [
    "<span class=\"label label-success\">Success</span><br/><br/>\n",
    "<div class=\"alert alert-info alert-dismissible fade in\" role=\"alert\">\n",
    "  <button type=\"button\" class=\"close\" data-dismiss=\"alert\" aria-label=\"Close\">\n",
    "    <span aria-hidden=\"true\">&times;</span>\n",
    "  </button>\n",
    "  <strong>Alright!</strong> Let's download and import the python bindings.\n",
    "</div>"
   ]
  },
  {
   "cell_type": "code",
   "execution_count": null,
   "metadata": {
    "collapsed": false
   },
   "outputs": [],
   "source": [
    "!pip install ipfsapi --user\n",
    "import ipfsapi\n",
    "api = ipfsapi.Client(\"localhost\", 5001)"
   ]
  },
  {
   "cell_type": "markdown",
   "metadata": {},
   "source": [
    "<div class=\"alert alert-info alert-dismissible fade in\" role=\"alert\">\n",
    "  <button type=\"button\" class=\"close\" data-dismiss=\"alert\" aria-label=\"Close\">\n",
    "    <span aria-hidden=\"true\">&times;</span>\n",
    "  </button>\n",
    "  <strong>Pretty cool, eh?</strong> At this point we have initialized our local repository, started the IPFS daemon and verified that our binary is installed properly.<br/>We should now attempt to pull some content from the IPFS network.  The help message mentions a readme, lets look at that.\n",
    "</div>"
   ]
  },
  {
   "cell_type": "code",
   "execution_count": null,
   "metadata": {
    "collapsed": false
   },
   "outputs": [],
   "source": [
    "print api.cat(\"QmYwAPJzv5CZsnA625s3Xf2nemtYgPpHdWEz79ojWnPbdG/readme\")"
   ]
  },
  {
   "cell_type": "markdown",
   "metadata": {},
   "source": [
    "<div class=\"alert alert-info alert-dismissible fade in\" role=\"alert\">\n",
    "  <button type=\"button\" class=\"close\" data-dismiss=\"alert\" aria-label=\"Close\">\n",
    "    <span aria-hidden=\"true\">&times;</span>\n",
    "  </button>\n",
    "  <strong>Sweet!</strong> Something special just occurred.<br/><br/>Our IPFS Go client ...<ol><li>queried the peer-to-peer (P2P) network</li><li>fetched content</li><li>assembled content chunks for the readme document</li>\n",
    "  <li>printed the file content to stdout via a cat cmd</li></ol>\n",
    "<br/>All via a unique hashed address that specifically references this content<br/><br/>\n",
    "<strong style=\"color:purple\">Extra Credit</strong>: Readup more on <a href=\"https://github.com/jbenet/random-ideas/issues/20\" target=\"_new\">Merkle DAG</a><br/>\n",
    "  Now let's take a peek at what our P2P network peers look like.\n",
    "</div>"
   ]
  },
  {
   "cell_type": "code",
   "execution_count": null,
   "metadata": {
    "collapsed": false
   },
   "outputs": [],
   "source": [
    "api.swarm_peers()"
   ]
  },
  {
   "cell_type": "markdown",
   "metadata": {},
   "source": [
    "<div class=\"alert alert-info alert-dismissible fade in\" role=\"alert\">\n",
    "  <button type=\"button\" class=\"close\" data-dismiss=\"alert\" aria-label=\"Close\">\n",
    "    <span aria-hidden=\"true\">&times;</span>\n",
    "  </button>\n",
    "  <strong>Neato!</strong> This is a listing of some peer nodes that are closest to our node.<br/>\n",
    "  Hmmmmm, let's inspect our node's details a little bit closer.\n",
    "</div>"
   ]
  },
  {
   "cell_type": "code",
   "execution_count": null,
   "metadata": {
    "collapsed": false
   },
   "outputs": [],
   "source": [
    "api.id()"
   ]
  },
  {
   "cell_type": "markdown",
   "metadata": {},
   "source": [
    "<div class=\"alert alert-info alert-dismissible fade in\" role=\"alert\">\n",
    "  <button type=\"button\" class=\"close\" data-dismiss=\"alert\" aria-label=\"Close\">\n",
    "    <span aria-hidden=\"true\">&times;</span>\n",
    "  </button>\n",
    "  <strong>Holy Hash Keys, Batman!</strong> The address configuration is driven via the config file listed within the IPFS repo found @ [....]/.local/share/ipfsrepo<br>\n",
    "</div>"
   ]
  },
  {
   "cell_type": "markdown",
   "metadata": {},
   "source": [
    "<div class=\"alert alert-info alert-dismissible fade in\" role=\"alert\">\n",
    "  <button type=\"button\" class=\"close\" data-dismiss=\"alert\" aria-label=\"Close\">\n",
    "    <span aria-hidden=\"true\">&times;</span>\n",
    "  </button>\n",
    "  <strong>Rock and Roll!</strong><br/>\n",
    "  Let's grab an image and show it. It just so happens that the entire XKCD archive is available over IPFS. Let's get one!\n",
    "</div>"
   ]
  },
  {
   "cell_type": "code",
   "execution_count": null,
   "metadata": {
    "collapsed": false
   },
   "outputs": [],
   "source": [
    "api.get(\"QmSeYATNaa2fSR3eMqRD8uXwujVLT2JU9wQvSjCd1Rf8pZ/1566 - Board Game/1566 - Board Game.png\")\n",
    "Image(\"1566 - Board Game.png\")"
   ]
  },
  {
   "cell_type": "markdown",
   "metadata": {},
   "source": [
    "<div class=\"alert alert-info alert-dismissible fade in\" role=\"alert\">\n",
    "  <button type=\"button\" class=\"close\" data-dismiss=\"alert\" aria-label=\"Close\">\n",
    "    <span aria-hidden=\"true\">&times;</span>\n",
    "  </button>\n",
    "  <strong>Try your own comic!</strong><br/>\n",
    "  The index is <a href=\"https://gateway.ipfs.io/ipfs/QmSeYATNaa2fSR3eMqRD8uXwujVLT2JU9wQvSjCd1Rf8pZ\" title=\"IPFS XKCD Index\">here</a>. Pick one and display it using the code below as a template! Find an image in the index that you like, then copy it's URL from the hash onward. Make sure to substitute '%20' as a space!\n",
    "</div>"
   ]
  },
  {
   "cell_type": "code",
   "execution_count": null,
   "metadata": {
    "collapsed": true
   },
   "outputs": [],
   "source": [
    "# Substitute your comic's number and name!\n",
    "api.get(\"QmSeYATNaa2fSR3eMqRD8uXwujVLT2JU9wQvSjCd1Rf8pZ/comicnumber - comic name/comicnumber - comic name.png\")\n",
    "Image(\"comicnumber - comic name.png\")"
   ]
  },
  {
   "cell_type": "markdown",
   "metadata": {},
   "source": [
    "<div class=\"alert alert-info alert-dismissible fade in\" role=\"alert\">\n",
    "  <button type=\"button\" class=\"close\" data-dismiss=\"alert\" aria-label=\"Close\">\n",
    "    <span aria-hidden=\"true\">&times;</span>\n",
    "  </button>\n",
    "  <strong>Let's load another image!</strong><br/>\n",
    "</div>"
   ]
  },
  {
   "cell_type": "code",
   "execution_count": null,
   "metadata": {
    "collapsed": false
   },
   "outputs": [],
   "source": [
    "api.get(\"QmVfFbASG11MjUFuvfAJmjKpxRGYstCAw9GmZEpbA7KE7A\")\n",
    "!mv QmVfFbASG11MjUFuvfAJmjKpxRGYstCAw9GmZEpbA7KE7A QmVfFbASG11MjUFuvfAJmjKpxRGYstCAw9GmZEpbA7KE7A.jpg\n",
    "Image(\"QmVfFbASG11MjUFuvfAJmjKpxRGYstCAw9GmZEpbA7KE7A.jpg\")"
   ]
  },
  {
   "cell_type": "markdown",
   "metadata": {},
   "source": [
    "<span class=\"label label-success\">Success</span><br/><br/>\n",
    "<div class=\"alert alert-info alert-dismissible fade in\" role=\"alert\">\n",
    "  <button type=\"button\" class=\"close\" data-dismiss=\"alert\" aria-label=\"Close\">\n",
    "    <span aria-hidden=\"true\">&times;</span>\n",
    "  </button>\n",
    "  <strong>IBM jStart!</strong> In addition to consumption, IPFS offers you the control to decide if and what content you'd like to provide by your node. Per this <a href=\"https://github.com/ipfs/examples/tree/master/examples/pinning\" target=\"_new\">readme</a> on pinning, <br/>\n",
    "  <blockquote>Pinning is the mechanism that allows you to tell ipfs to always keep a given object local. ipfs has a fairly aggressive caching mechanism that will keep an object local for a short time after you perform any ipfs operation on it, but these objects may get garbage collected fairly regularly. To prevent that garbage collection simply pin the hash you care about. <span style=\"color:purple\">Objects added through ipfs add are pinned recursively by default.</span></blockquote>\n",
    "  Let's be good IPFS netizens and add our fetched content (recursive pin) to our node to help facilitate further propagation of this content.<br/><br/>Per the <a href=\"https://ipfs.io/docs/commands/#ipfs-add\" target=\"_new\">IPFS command doc</a>, \n",
    "  <blockquote><strong>IPFS ADD</strong>: Adds contents of &lt;path&gt; to ipfs. Use -r to add directories.\n",
    "    Note that directories are added recursively, to form the ipfs MerkleDAG.</blockquote>\n",
    "  <strong style=\"color:purple\">Extra Credit</strong>: Check out <a href=\"https://github.com/ipfs/go-ipfs/issues/590\" target=\"_new\"> Github Issue #590</a> to gain a better understanding of Pinning Semantics.\n",
    "</div>"
   ]
  },
  {
   "cell_type": "code",
   "execution_count": null,
   "metadata": {
    "collapsed": false,
    "scrolled": false
   },
   "outputs": [],
   "source": [
    "api.add(\"QmVfFbASG11MjUFuvfAJmjKpxRGYstCAw9GmZEpbA7KE7A.jpg\")"
   ]
  },
  {
   "cell_type": "markdown",
   "metadata": {
    "collapsed": true
   },
   "source": [
    "<div class=\"progress\" style=\"height: 40px;\">\n",
    "  <div class=\"progress-bar progress-bar-success progress-bar-striped active\" role=\"progressbar\" aria-valuenow=\"100\" aria-valuemin=\"0\" aria-valuemax=\"100\" style=\"width: 100%;height:40px;\">\n",
    "    <span style=\"font-size:20px;line-height: 40px;\">Congratulations. Your InterPlanetary Tour on Jupyter is now over.  Hope you enjoyed the show!</span>\n",
    "  </div>\n",
    "</div>\n"
   ]
  },
  {
   "cell_type": "markdown",
   "metadata": {},
   "source": [
    "<div class=\"jumbotron\" style=\"color:#F9F9FB;background-color:#1a242d !important;\">\n",
    "  <span style=\"float: right;width:5%;height:5%\">\n",
    "      <img src=\"https://ipfs.io/ipfs/QmVfFbASG11MjUFuvfAJmjKpxRGYstCAw9GmZEpbA7KE7A\"/>\n",
    "  </span>\n",
    "  <span style=\"float: right;width:5%;height:5%\">\n",
    "      <img style=\"background-color:white\" src=\"https://rawgit.com/jupyter/design/master/logo/svg/jupyter-sq-text.svg\" />\n",
    "  </span>\n",
    "  <h1 class=\"display-3\">InterPlanetary File System (IPFS) on Jupyter</h1>\n",
    "  <p class=\"lead\">Jovians and Bluemix users rejoice!</p>\n",
    "  <hr class=\"m-y-2\">\n",
    "  <p>\n",
    "    <img src=\"https://cdn.hackaday.io/images/5211791461026701572.png\" style=\"margin:0;padding:0;float:right;\"/>\n",
    "  <h2 style=\"color:orange\">Food For Thought</h2>\n",
    "  <ul><li>IPFS is still very young.  Alpha means YMMV, but the project is open and evolving.</li>\n",
    "  <li>Data Scientists need data.  Can IPFS provide a more frictionless experience to accessing data?</li>\n",
    "  <li>Certain JDBC drivers (e.g. <a href=\"https://github.com/xerial/sqlite-jdbc\" target=\"_new\">Xerial's SQLite</a>, ...) <strong>assume/require</strong> database files on local paths.  Can IPFS help data scientists work with these constrained drivers, either through download or via FUSE mount?</li>\n",
    "  <li>Can access to the IBM Analytics Exchange be streamlined by having the platform generate and provide permanent IPFS references?</li>\n",
    "  <li>How does IPFS decentralized technology compare to other similar open projects such as <a href=\"http://dat-data.com/\" target=\"_new\">DAT</a>, <a href=\"http://maidsafe.net/\" target=\"_new\">MaidSafe</a> and <a href=\"http://storj.io/\" target=\"_new\">Storj.io</a>?</li>\n",
    "  <li>IPFS is a technology focused on distribution, not storage, of content.  It is a peer-to-peer hypermedia protocol.</li>\n",
    "  <li>Can this be an easier way of sharing popular code snippets? Imagine running <span style=\"color:orange\">cat</span> on a url and receiving a python code segment for using the Spark Technology Center's <a href=\"http://www.spark.tc/stocator-the-fast-lane-connecting-object-stores-to-spark/\" target=\"_new\">Stocator library</a> in your data analytics projects.  Rapid access to code examples.  Maintaining a list of best of breed approaches via a list of links sounds convenient.  Maybe this opens up opportunities for a trusted advisor chat bot that I populate with content link lists that I trust?</li>\n",
    "  <li>What use cases does IPFS make better?  In what cases is P2P unwise or unnecessary?</li>\n",
    "  <li>How can IBM Cloud offerings differentiate themselves by embracing the momentum around distributed web and mesh networks?</li>\n",
    "  <li>Did you notice that some of these embedded images are being served via an IPFS resource url hosted @ ipfs.io?</li>\n",
    "  <li>Opportunities with real-time analytics, Spark streaming and the streaming capabilities of IPFS streams?</li>\n",
    "  <li>Opportunities for triggering \"serverless\" lambda functions (e.g. <a href=\"openwhisk.org\" target=\"_new\">OpenWhisk</a>, AWS Lambda, ...) via an IPFS client to emit events, thus causing parallel content movement programmatically (e.g. spin up lambda, fetch content and put it in a blob store)?  Would this require new flavors of lambda functions -- compute optimized vs. bandwidth optimized?</li>\n",
    "  <li>What next ? ...</li>\n",
    "  </ul><br/>\n",
    "  <h2 style=\"color:orange\">Useful References</h2>\n",
    "  <ul>\n",
    "      <li><a href=\"https://en.wikipedia.org/wiki/InterPlanetary_File_System\" target=\"_new\">https://en.wikipedia.org/wiki/InterPlanetary_File_System</a></li>\n",
    "      <li><a href=\"http://dietzel.me/2015/08/02/EuroPython-2015-Holger-Krekels-Keynote-about-the-interplanetary-filesystem-Wed-22nd-July-2015/\" target=\"_new\">http://dietzel.me/2015/08/02/EuroPython-2015-Holger-Krekels-Keynote-about-the-interplanetary-filesystem-Wed-22nd-July-2015/</a></li>\n",
    "      <li><a href=\"http://www.wired.com/2016/06/inventors-internet-trying-build-truly-permanent-web/\" target=\"_new\">http://www.wired.com/2016/06/inventors-internet-trying-build-truly-permanent-web/</a></li>\n",
    "      <li><a href=\"https://blog.acolyer.org/2015/10/05/ipfs-content-addressed-versioned-p2p-file-system/\" target=\"_new\">https://blog.acolyer.org/2015/10/05/ipfs-content-addressed-versioned-p2p-file-system/</a></li>\n",
    "      <li><a href=\"https://techcrunch.com/2015/10/04/why-the-internet-needs-ipfs-before-its-too-late/\" target=\"_new\">https://techcrunch.com/2015/10/04/why-the-internet-needs-ipfs-before-its-too-late/</a></li>\n",
    "      <li><a href=\"https://github.com/ipfs/ipfs#overview\" target=\"_new\">https://github.com/ipfs/ipfs#overview</a></li>\n",
    "      <li><a href=\"https://ipfs.io/ipfs/QmNhFJjGcMPqpuYfxL62VVB9528NXqDNMFXiqN5bgFYiZ1/its-time-for-the-permanent-web.html\" target=\"_new\">https://ipfs.io/ipfs/QmNhFJjGcMPqpuYfxL62VVB9528NXqDNMFXiqN5bgFYiZ1/its-time-for-the-permanent-web.html</a></li>\n",
    "      <li><a href=\"https://github.com/ipfs/faq/issues\" target=\"_new\">https://github.com/ipfs/faq/issues</a></li>\n",
    "      <li><a href=\"https://github.com/ipfs/awesome-ipfs\" target=\"_new\">https://github.com/ipfs/awesome-ipfs</a></li>\n",
    "      <li><a href=\"https://diginomics.com/interview-kyle-drake-juan-benet-ipfs/\" target=\"_new\">https://diginomics.com/interview-kyle-drake-juan-benet-ipfs/</a></li>\n",
    "      <li><a href=\"https://github.com/ipfs/apps/issues/29\" target=\"_new\">IPFS + Jupyter Notebooks Github Discussion Issue</a>&nbsp;&nbsp;<img style=\"vertical-align: bottom;display: inline-block;\" src=\"http://icons.iconarchive.com/icons/custom-icon-design/valentine/16/heart-icon.png\"/></li>\n",
    "      <li><a href=\"http://filecoin.io/\" target=\"_new\">http://filecoin.io/</a>&nbsp;&nbsp;<img style=\"vertical-align: bottom;display: inline-block;\" src=\"http://icons.iconarchive.com/icons/custom-icon-design/valentine/16/heart-icon.png\"/></li>\n",
    "      <li><a href=\"http://arxiv.org/pdf/1407.3561.pdf\" target=\"_new\">http://arxiv.org/pdf/1407.3561.pdf</a></li>\n",
    "      <li><a href=\"https://www.youtube.com/watch?v=8CMxDNuuAiQ\" target=\"_new\">IPFS Video Intro</a>&nbsp;&nbsp;<img style=\"vertical-align: bottom;display: inline-block;width:2%\" src=\"https://developer.ibm.com/streamsdev/wp-content/uploads/sites/15/2015/03/YouTube-social-circle_red_128px.png\"/></li>\n",
    "      <li><a href=\"https://db.erisindustries.com/distributed%20business/2015/11/01/eris-and-ipfs/\" target=\"_new\">https://db.erisindustries.com/distributed%20business/2015/11/01/eris-and-ipfs/</a></li>\n",
    "  </ul>\n",
    "  <h2 style=\"color:orange\">Useful Tools</h2>\n",
    "  <ul>\n",
    "      <li><a href=\"https://github.com/dylanPowers/ipfs-chrome-extension\" target=\"_new\">IPFS Chrome Extension</a></li>\n",
    "      <li><a href=\"https://github.com/dylanPowers/ipfs-linux-service\" target=\"_new\">IPFS Linux Service</a></li>\n",
    "  </ul>\n",
    "  </p>\n",
    "  <p class=\"lead\">\n",
    "      <div class=\"text-center\">\n",
    "      <img style=\"width:10%;height:10%;display:inline\" src=\"https://ipfs.io/ipfs/QmTgtbb4LckHaXh1YhpNcBu48cFY8zgT1Lh49q7q7ksf3M/raster-generated/ipfs-logo-text-128-white.png\">&nbsp;&nbsp;\n",
    "      <a class=\"btn btn-primary btn-lg\" target=\"_new\" href=\"https://ipfs.io\" role=\"button\">Learn more</a>\n",
    "      <a class=\"btn btn-primary btn-lg\" target=\"_new\" href=\"http://www-01.ibm.com/software/ebusiness/jstart/contact.shtml\" role=\"button\">Contact jStart - Have a conversation with Us</a></div>\n",
    "  </p>\n",
    "  \n",
    "</div>"
   ]
  },
  {
   "cell_type": "code",
   "execution_count": null,
   "metadata": {
    "collapsed": true
   },
   "outputs": [],
   "source": []
  }
 ],
 "metadata": {
  "kernelspec": {
   "display_name": "Python 2",
   "language": "python",
   "name": "python2"
  },
  "language_info": {
   "codemirror_mode": {
    "name": "ipython",
    "version": 2
   },
   "file_extension": ".py",
   "mimetype": "text/x-python",
   "name": "python",
   "nbconvert_exporter": "python",
   "pygments_lexer": "ipython2",
   "version": "2.7.11"
  }
 },
 "nbformat": 4,
 "nbformat_minor": 0
}
